{
 "cells": [
  {
   "cell_type": "markdown",
   "metadata": {},
   "source": [
    "# Homework 09 - RNNs\n",
    "\n",
    "In this homework you will learn how to generate text with an RNN. \n",
    "\n",
    "Defining an RNN in TensorFlow is based on a specific framework. Therefore I will provide you with the correct model definition. Your task will be to to understand how the model processes sequential data, which kind of data it returns and how to train it.\n",
    "\n",
    "You will train a stacked RNN to generate text passages, similar to those in the bible.\n",
    "For that make sure that the 'bible.txt' (from Stud.IP) file is in the same folder as this notebook."
   ]
  },
  {
   "cell_type": "code",
   "execution_count": 1,
   "metadata": {},
   "outputs": [],
   "source": [
    "import numpy as np\n",
    "import tensorflow as tf\n",
    "import random\n",
    "import math"
   ]
  },
  {
   "cell_type": "markdown",
   "metadata": {},
   "source": [
    "### Load text."
   ]
  },
  {
   "cell_type": "code",
   "execution_count": 2,
   "metadata": {},
   "outputs": [
    {
     "name": "stdout",
     "output_type": "stream",
     "text": [
      "Text length: 4332496\n",
      "-------------------------------------\n",
      "The First Book of Moses:  Called Genesis\n",
      "\n",
      "\n",
      "1:1 In the beginning God created the heaven and the earth.\n",
      "\n",
      "1:2 And the earth was without form, and void; and darkness was upon\n",
      "the face of the deep. And the Spirit of God moved upon the face of the\n",
      "waters.\n",
      "\n",
      "1:3 And God said, Let there be light: and there was light.\n",
      "\n",
      "1:4 And God saw the light, that it was good: and God divided the light\n",
      "from the darkness.\n",
      "\n",
      "1:5 And God called the light Day, and the darkness he called Night.\n",
      "And the evening and the mornin\n"
     ]
    }
   ],
   "source": [
    "# Load the text.\n",
    "txt = open(\"bible.txt\",'r').read()\n",
    "print(\"Text length: {}\".format(len(txt)))\n",
    "print('-------------------------------------')\n",
    "\n",
    "# Inspect first lines:\n",
    "print(txt[:500])"
   ]
  },
  {
   "cell_type": "code",
   "execution_count": 3,
   "metadata": {},
   "outputs": [
    {
     "name": "stdout",
     "output_type": "stream",
     "text": [
      "Vocabulary: ['!', 'L', 'f', '2', '6', 'p', 'F', 'M', 'Y', 'U', 'J', 'z', 'B', 'g', ';', 'e', 'S', 'O', '1', 'v', 'h', 'k', 'N', 'C', ' ', 'T', 'n', '9', 'W', 's', '7', 'i', 'E', 'y', '3', ':', '0', 'o', 'a', 'd', 'A', 'j', '-', 'Q', '4', 'H', 't', '8', 'q', 'w', 'P', 'r', '\\n', 'b', '.', ')', 'x', 'Z', '(', '*', 'c', 'l', 'K', 'R', 'D', \"'\", 'V', 'I', 'u', ',', '?', 'G', 'm', '5']\n",
      "--------------------------\n",
      "Vocabulary size: 74\n"
     ]
    }
   ],
   "source": [
    "# Get the vocabulary of the text\n",
    "vocab = list(set(txt))\n",
    "print(\"Vocabulary: {}\".format(vocab))\n",
    "print('--------------------------')\n",
    "vocab_size = len(vocab)\n",
    "print(\"Vocabulary size: {}\".format(vocab_size))"
   ]
  },
  {
   "cell_type": "code",
   "execution_count": 4,
   "metadata": {},
   "outputs": [],
   "source": [
    "# Create dictionaries to switch between the indices of the characters and the characters themselves.\n",
    "char2idx = {ch:i for i,ch in enumerate(vocab)}\n",
    "idx2char = {i:ch for i,ch in enumerate(vocab)}\n",
    "\n",
    "# Translate the text to indices.\n",
    "txt_idx = [char2idx[ch] for ch in txt]"
   ]
  },
  {
   "cell_type": "markdown",
   "metadata": {},
   "source": [
    "### Prepare TensorFlow dataset.\n",
    "\n",
    "In the following we will process the text to a suitable dataset."
   ]
  },
  {
   "cell_type": "code",
   "execution_count": 5,
   "metadata": {},
   "outputs": [],
   "source": [
    "# First create a tensorflow dataset out of the text (in indices). (tf.data.Dataset.from_tensor_slices)\n",
    "### YOUR CODE HERE ###\n",
    "dataset = tf.data.Dataset.from_tensor_slices(txt_idx)\n",
    "######################"
   ]
  },
  {
   "cell_type": "code",
   "execution_count": 6,
   "metadata": {},
   "outputs": [],
   "source": [
    "# We will trainon subsequences of length 20 and compute the loss for each timestep.\n",
    "# Let's think about how a single training datapoint will look.\n",
    "# Example:\n",
    "# Input sequence: \"Moses:  Called Genesi\"\n",
    "# Target sequence: \"oses:  Called Genesis\"\n",
    "# To create these pairs of sequence we chunk the dataset into subsequences of length k+1.\n",
    "# You can use .batch() for this. \n",
    "# And make sure that all subsequences in the resulting dataset have length k+1 (understand\n",
    "# parameter 'drop_remainder' in .batch())\n",
    "\n",
    "### YOUR CODE HERE ###\n",
    "k = 20\n",
    "dataset = dataset.batch(k+1, drop_remainder=True)\n",
    "######################"
   ]
  },
  {
   "cell_type": "code",
   "execution_count": 7,
   "metadata": {},
   "outputs": [],
   "source": [
    "# Now we have to map each sequence of length 21\n",
    "# to a (input, target) pair.\n",
    "# Given the following function you can use the dataset method .map() here.\n",
    "def input_target_split(seq):\n",
    "    return seq[:-1], seq[1:]\n",
    "\n",
    "### YOUR CODE HERE ###\n",
    "dataset = dataset.map(lambda x: (input_target_split(x)))\n",
    "######################"
   ]
  },
  {
   "cell_type": "code",
   "execution_count": 8,
   "metadata": {},
   "outputs": [],
   "source": [
    "# Now as usual we shuffle our dataset and chunk it into batches of 64.\n",
    "### YOUR CODE HERE ###\n",
    "BATCH_SIZE = 64\n",
    "dataset = dataset.shuffle(len(txt) // (k+1))\n",
    "dataset = dataset.batch(BATCH_SIZE)\n",
    "######################"
   ]
  },
  {
   "cell_type": "code",
   "execution_count": 9,
   "metadata": {},
   "outputs": [],
   "source": [
    "# Provided definitions of Vanilla RNN cell and RNN model.\n",
    "\n",
    "class VanillaRNNCell(tf.keras.layers.Layer):\n",
    "\n",
    "    def __init__(self, input_dim, units):\n",
    "        super(VanillaRNNCell, self).__init__()\n",
    "        self.input_dim = input_dim\n",
    "        self.units = units\n",
    "        # TF needs this.\n",
    "        self.state_size = units\n",
    "    \n",
    "    def build(self, input_shape):\n",
    "        self.w_in = self.add_weight(\n",
    "                            shape=(self.input_dim, self.units),\n",
    "                            initializer='uniform'\n",
    "                            )\n",
    "        self.w_h = self.add_weight(\n",
    "                            shape=(self.units, self.units),\n",
    "                            initializer='uniform'\n",
    "                            )\n",
    "        self.b_h = self.add_weight(\n",
    "                            shape=(self.units,),\n",
    "                            initializer='zeros'\n",
    "                            )       \n",
    "            \n",
    "    def call(self, inputs, hidden_states):\n",
    "        h_prev = hidden_states[0]\n",
    "        h_new = tf.nn.sigmoid(tf.matmul(inputs, self.w_in) + tf.matmul(h_prev, self.w_h) + self.b_h)\n",
    "        return h_new, [h_new]\n",
    "\n",
    "state_size_1 = 128\n",
    "state_size_2 = 256\n",
    "\n",
    "class RNN(tf.keras.layers.Layer):\n",
    "    \n",
    "    def __init__(self):\n",
    "        super(RNN, self).__init__()\n",
    "        self.cell_1 = VanillaRNNCell(input_dim=vocab_size, units=state_size_1)\n",
    "        self.cell_2 = VanillaRNNCell(input_dim=state_size_1, units=state_size_2)\n",
    "        self.cells = [self.cell_1, self.cell_2]\n",
    "        self.rnn = tf.keras.layers.RNN(self.cells, return_sequences=True)\n",
    "        self.output_layer = tf.keras.layers.Dense(units=vocab_size, activation=tf.nn.softmax)\n",
    "        \n",
    "    def call(self,x):\n",
    "        seqs = self.rnn(x)\n",
    "        output = self.output_layer(seqs)\n",
    "        return output"
   ]
  },
  {
   "cell_type": "code",
   "execution_count": 10,
   "metadata": {
    "scrolled": true
   },
   "outputs": [
    {
     "name": "stdout",
     "output_type": "stream",
     "text": [
      "\n",
      "loss: 4.5473375\n",
      "0 / 3223\n",
      "\n",
      "loss: 2.5339332\n",
      "100 / 3223\n",
      "\n",
      "loss: 2.1979616\n",
      "200 / 3223\n",
      "\n",
      "loss: 1.9921982\n",
      "300 / 3223\n",
      "\n",
      "loss: 1.932592\n",
      "400 / 3223\n",
      "\n",
      "loss: 1.7703936\n",
      "500 / 3223\n",
      "\n",
      "loss: 1.7694575\n",
      "600 / 3223\n",
      "\n",
      "loss: 1.7325157\n",
      "700 / 3223\n",
      "\n",
      "loss: 1.7255255\n",
      "800 / 3223\n",
      "\n",
      "loss: 1.7241148\n",
      "900 / 3223\n",
      "\n",
      "loss: 1.6128525\n",
      "1000 / 3223\n",
      "\n",
      "loss: 1.5952408\n",
      "1100 / 3223\n",
      "\n",
      "loss: 1.513009\n",
      "1200 / 3223\n",
      "\n",
      "loss: 1.6029091\n",
      "1300 / 3223\n",
      "\n",
      "loss: 1.4548628\n",
      "1400 / 3223\n",
      "\n",
      "loss: 1.5219576\n",
      "1500 / 3223\n",
      "\n",
      "loss: 1.5586116\n",
      "1600 / 3223\n",
      "\n",
      "loss: 1.4175893\n",
      "1700 / 3223\n",
      "\n",
      "loss: 1.5458534\n",
      "1800 / 3223\n",
      "\n",
      "loss: 1.512428\n",
      "1900 / 3223\n",
      "\n",
      "loss: 1.468601\n",
      "2000 / 3223\n",
      "\n",
      "loss: 1.4901549\n",
      "2100 / 3223\n",
      "\n",
      "loss: 1.5473168\n",
      "2200 / 3223\n",
      "\n",
      "loss: 1.4642771\n",
      "2300 / 3223\n",
      "\n",
      "loss: 1.4004709\n",
      "2400 / 3223\n",
      "\n",
      "loss: 1.4274213\n",
      "2500 / 3223\n",
      "\n",
      "loss: 1.439476\n",
      "2600 / 3223\n",
      "\n",
      "loss: 1.4429433\n",
      "2700 / 3223\n",
      "\n",
      "loss: 1.4141674\n",
      "2800 / 3223\n",
      "\n",
      "loss: 1.4886546\n",
      "2900 / 3223\n",
      "\n",
      "loss: 1.4440966\n",
      "3000 / 3223\n",
      "\n",
      "loss: 1.4475137\n",
      "3100 / 3223\n",
      "\n",
      "loss: 1.3604487\n",
      "3200 / 3223\n"
     ]
    }
   ],
   "source": [
    "tf.keras.backend.clear_session()\n",
    "\n",
    "### YOUR CODE HERE ### \n",
    "# Initialize the RNN, cross entropy as a loss function and as an optimizer Adam with learning rate 0.01.\n",
    "model = RNN()\n",
    "cross_entropy = tf.keras.losses.CategoricalCrossentropy()\n",
    "optimizer = tf.keras.optimizers.Adam(learning_rate=0.01)\n",
    "\n",
    "# Train for one epoch. Your loss should be around 1.4.\n",
    "# Remember to encode the inputs and target values as one hots.\n",
    "losses = []\n",
    "train_steps = []\n",
    "\n",
    "num_batches = math.ceil((len(txt) // (k+1)) / BATCH_SIZE)\n",
    "step = 0\n",
    "for batch in zip(dataset):\n",
    "    (x, t) = batch[0]\n",
    "    x = tf.one_hot(indices=x, depth=vocab_size)\n",
    "    t = tf.one_hot(indices=t, depth=vocab_size)\n",
    "    with tf.GradientTape() as tape:\n",
    "        output = model(x)\n",
    "        loss = cross_entropy(t, output)\n",
    "        gradients = tape.gradient(loss, model.trainable_variables)\n",
    "    optimizer.apply_gradients(zip(gradients, model.trainable_variables))\n",
    "    \n",
    "    losses.append(loss)\n",
    "    train_steps.append(step)\n",
    "    \n",
    "    if step % 100 == 0:\n",
    "        print('')\n",
    "        print('loss: ' + str(loss.numpy()))\n",
    "        print(str(step) + ' / ' + str(num_batches))\n",
    "        \n",
    "    step = step + 1\n",
    "\n",
    "######################    "
   ]
  },
  {
   "cell_type": "code",
   "execution_count": 14,
   "metadata": {},
   "outputs": [
    {
     "data": {
      "image/png": "[encoded data removed]",
      "text/plain": [
       "<Figure size 432x288 with 1 Axes>"
      ]
     },
     "metadata": {},
     "output_type": "display_data"
    }
   ],
   "source": [
    "import matplotlib.pyplot as plt\n",
    "\n",
    "plt.style.use('ggplot')\n",
    "plt.figure()\n",
    "plt.plot(train_steps, losses)\n",
    "plt.xlabel(\"Training Steps\")\n",
    "plt.ylabel(\"Loss\")\n",
    "plt.show()"
   ]
  },
  {
   "cell_type": "code",
   "execution_count": 15,
   "metadata": {},
   "outputs": [],
   "source": [
    "# IT MIGHT MAKE SENSE TO FIRST CODE THE ACTUAL TRAINING CELL (NEXT ONE) AND THEN COME BACK HERE.\n",
    "\n",
    "# Defining the function for generating novel text samples.\n",
    "# The function should take the sample below (of length k) and generate a text sequence of length k+n from it.\n",
    "def generate_sample(sample, n):\n",
    "    \n",
    "    ### YOUR CODE HERE ###\n",
    "    # Translate sample string into list of characters.\n",
    "    chars = [[char2idx[char] for char in sample]]\n",
    "\n",
    "    # Transform list into tensor of shape (1,20,vocab_size)\n",
    "    chars = tf.one_hot(indices=chars, depth=vocab_size)\n",
    "    \n",
    "    ######################\n",
    "    \n",
    "    # Sample n new characters.\n",
    "    for i in range(n):\n",
    "        ### YOUR CODE HERE ###\n",
    "        # Feed sample sequence into RNN and get probabilities of next character.\n",
    "        probabilities = model(chars)\n",
    "        \n",
    "        # Sample index for new character (use tf.random.categorical()).\n",
    "        probabilities = tf.math.log(probabilities[0])\n",
    "        probabilities = tf.random.categorical(probabilities, 1)\n",
    "        idx = probabilities.numpy()[19][0]\n",
    "\n",
    "        # Translate to actual character and add it to sample string.\n",
    "        char = idx2char[idx]\n",
    "\n",
    "        # Create new sequence of 20 indices by deleting the first character of the old sequence\n",
    "        # and adding the new character.\n",
    "        sample = sample + char\n",
    "        \n",
    "        chars = [[char2idx[char] for char in sample[i + 1:]]]\n",
    "        chars = tf.one_hot(indices=chars, depth=vocab_size)\n",
    "\n",
    "        ######################\n",
    "        \n",
    "    return sample"
   ]
  },
  {
   "cell_type": "code",
   "execution_count": 16,
   "metadata": {},
   "outputs": [
    {
     "name": "stdout",
     "output_type": "stream",
     "text": [
      "And God and Jesus goned him ford of the field in him\n",
      "gravelb pharre congrest.\n",
      "\n",
      "6:8 The God was of Jern go me the\n",
      "Israel: and he to\n",
      "destrest: of the sickness: teer with all the land, by the family\n",
      "of his men knowning afroses; lenger of men they wenth him, Every priest, of the people ble.\n",
      "\n",
      ":6 Tell sacrifice: but ye holy likese him, and voice he reight; Spirit of his brethrel it gold of host break the other Jarmorres; and they will was to brought of a queturns which is this restst rabbaar according\n",
      "the people come against the people are pure put ligpeth it.\n",
      "\n",
      "13:16 Thou shalt blesself still flediah be not the city many years made according of Israel with the chastines of his helsazie day God, and requices\n",
      "of my sons'sed.\n",
      "\n",
      "10:6 And everiedwen, and will sill Israel sacriface to his fatten were man's preyert the son of Amazar.\n",
      "\n",
      "6:12 And the destroy came boted them that defore the kink.\n",
      "\n",
      "24:53 Beedonady uncought men Hathan, tonly\n",
      "offering\n",
      "him unto Me out; neither is the king's wilder evilse, I will\n",
      "reised abone, \n"
     ]
    }
   ],
   "source": [
    "# Feel free to generate some funny samples.\n",
    "\n",
    "sample = 'And God and Jesus go'\n",
    "assert(len(sample)==k)\n",
    "print(generate_sample(sample,1000))"
   ]
  },
  {
   "cell_type": "code",
   "execution_count": 48,
   "metadata": {},
   "outputs": [
    {
     "name": "stdout",
     "output_type": "stream",
     "text": [
      "Jesus just played out of thy name down for the moved with fakent and Solomon not by man sot to him; and our hundrow, and upon the sword.\n",
      "\n",
      "11:17 Who said\n",
      "unto theme are\n",
      "a tation in all\n",
      "find for I will be take ence; for it for the\n",
      "lands up against the , and Horbs, and that thou hast made for if the consuries\n",
      "that were an hust sinneth things laid up, shelt that the swent\n",
      "afteth be might that if my ramsiah or not be togethen against by even a unto him: neither whrn take the viritan\n",
      "for she hath have not onement on the kingty\n",
      "the God op\n",
      "with the father in the LORD pidereth that be out shall parts or thine hand in\n",
      "the asself, he that\n",
      "laid, To come know one with their woman will\n",
      "also throm David saw and up for\n",
      "the Lord, and\n",
      "no fathery, when Bethan sea under together\n",
      "carcumcus of\n",
      "thy house were made doeth with up for that Afpasnes, in take the graving of heavant went I will\n",
      "make pass, as their ason will give\n",
      "the\n",
      "king of the king, I knownem\n",
      "also also to pass, which I will ye will\n",
      "two debath known of the Churachet.\n"
     ]
    }
   ],
   "source": [
    "sample = 'Jesus just played ou'\n",
    "assert(len(sample)==k)\n",
    "print(generate_sample(sample,1000))"
   ]
  },
  {
   "cell_type": "code",
   "execution_count": 49,
   "metadata": {},
   "outputs": [
    {
     "name": "stdout",
     "output_type": "stream",
     "text": [
      "God just did the bight himself liber him not hand\n",
      "of the srue himselves.\n",
      "\n",
      "15:45 And David he arment be witer upon was neither\n",
      "oppribsay into her madement in the sonst my son of his midst of\n",
      "your caster upon thy\n",
      "God over.\n",
      "\n",
      "\n",
      "7:10 It am your witnen, and saying unto Moses; t.\n",
      "\n",
      "25:15\n",
      "With\n",
      "rams of Porden.\n",
      " 13:14 Therefore I will none depart\n",
      "with\n",
      "plessed ye ask one tome his epige to your years of my sake he have will\n",
      "done drink our honour face out of our moth have take ot my\n",
      "fearuneth upounto the lamb, Behold, and whelt\n",
      "is he thy\n",
      "son of Baty upon glad; he have deat brother, sware of Israel, and a not thou fath into him\n",
      "rusbly Fathert first also is comb? if thou wust, I am takened, in ye had\n",
      "scittle be be not in hunselion, and one forth\n",
      "him and Syria was one his house of Marnadaa, we pray a sought daid in Phily in ifruction.\n",
      "\n",
      "17:18 And Jalamy breaming to talaom he to\n",
      "which diss that let thee, even with Zionlest out of the pittren, and Pheria, it work of agaat said unto Judah, that we habsen that patiture and two \n"
     ]
    }
   ],
   "source": [
    "sample = 'God just did the big'\n",
    "assert(len(sample)==k)\n",
    "print(generate_sample(sample,1000))"
   ]
  },
  {
   "cell_type": "code",
   "execution_count": 51,
   "metadata": {},
   "outputs": [
    {
     "name": "stdout",
     "output_type": "stream",
     "text": [
      "After God and his breasts of Jodamies hath for his saith\n",
      "the mercy oveth of like\n",
      "whose king my give, if if ye smote you, Whomin that he hath two said unto passed like riv\n"
     ]
    }
   ],
   "source": [
    "sample = 'After God and his br'\n",
    "assert(len(sample)==k)\n",
    "print(generate_sample(sample,150))"
   ]
  },
  {
   "cell_type": "code",
   "execution_count": 17,
   "metadata": {},
   "outputs": [
    {
     "name": "stdout",
     "output_type": "stream",
     "text": [
      "After the rap battle, but yet be strong of Christ, and; 20:16 The house, lest the Phill tiken he spourt which \n"
     ]
    }
   ],
   "source": [
    "sample = 'After the rap battle'\n",
    "assert(len(sample)==k)\n",
    "print(generate_sample(sample,90))"
   ]
  },
  {
   "cell_type": "code",
   "execution_count": 18,
   "metadata": {},
   "outputs": [
    {
     "name": "stdout",
     "output_type": "stream",
     "text": [
      "22:19 The sea began of\n",
      "the son and he delivered in the people, unfil it; O kept of thy throne, there.\n",
      "\n",
      "139:28 \n"
     ]
    }
   ],
   "source": [
    "sample = '22:19 The sea began '\n",
    "assert(len(sample)==k)\n",
    "print(generate_sample(sample,90))"
   ]
  },
  {
   "cell_type": "code",
   "execution_count": 20,
   "metadata": {},
   "outputs": [
    {
     "name": "stdout",
     "output_type": "stream",
     "text": [
      "Toss a coin to your work of the Song me.\n",
      "\n",
      "11:2 We assipponing the city; but all the house of Ahazianity days, and in thee,\n",
      "ye drink, and horse sake is war again and made to pass ansorrightel of ball great unto thy\n",
      "Gebeednes of loo earon, This hand, he the dist.\n",
      "\n",
      "16:66 A\n"
     ]
    }
   ],
   "source": [
    "sample = 'Toss a coin to your '\n",
    "assert(len(sample)==k)\n",
    "print(generate_sample(sample,250))"
   ]
  }
 ],
 "metadata": {
  "kernelspec": {
   "display_name": "Python 3",
   "language": "python",
   "name": "python3"
  },
  "language_info": {
   "codemirror_mode": {
    "name": "ipython",
    "version": 3
   },
   "file_extension": ".py",
   "mimetype": "text/x-python",
   "name": "python",
   "nbconvert_exporter": "python",
   "pygments_lexer": "ipython3",
   "version": "3.6.8"
  }
 },
 "nbformat": 4,
 "nbformat_minor": 4
}
