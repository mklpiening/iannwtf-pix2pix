{
 "cells": [
  {
   "cell_type": "markdown",
   "metadata": {},
   "source": [
    "# pix2pix"
   ]
  },
  {
   "cell_type": "markdown",
   "metadata": {},
   "source": [
    "## Load images"
   ]
  },
  {
   "cell_type": "markdown",
   "metadata": {},
   "source": [
    "## download dataset\n",
    "The used dataset is the [nyu_depth Dataset](https://cs.nyu.edu/~silberman/datasets/nyu_depth_v2.html) which contains images, dense depthmaps and raw depthmaps.\n",
    "\n",
    "To show progress bars in Jupyter Lab run install the jupyterlab-manager widget before training:\n",
    "``` bash\n",
    "$ jupyter labextension install @jupyter-widgets/jupyterlab-manager\n",
    "```"
   ]
  },
  {
   "cell_type": "code",
   "execution_count": null,
   "metadata": {},
   "outputs": [],
   "source": [
    "import os\n",
    "\n",
    "path = \"datasets/nyu_depth.mat\"\n",
    "\n",
    "if not os.path.isfile(path):\n",
    "    ! wget -O datasets/nyu_depth.mat http://horatio.cs.nyu.edu/mit/silberman/nyu_depth_v2/nyu_depth_v2_labeled.mat"
   ]
  },
  {
   "cell_type": "markdown",
   "metadata": {},
   "source": [
    "### common dependencies"
   ]
  },
  {
   "cell_type": "code",
   "execution_count": null,
   "metadata": {},
   "outputs": [],
   "source": [
    "import numpy as np\n",
    "import glob\n",
    "import matplotlib.pyplot as plt\n",
    "import csv\n",
    "import random\n",
    "import math\n",
    "from PIL import Image\n",
    "from tqdm import tqdm_notebook\n",
    "from keras_tqdm import TQDMNotebookCallback\n",
    "import scipy.io\n",
    "import h5py\n",
    "from keras_tqdm import TQDMNotebookCallback"
   ]
  },
  {
   "cell_type": "markdown",
   "metadata": {},
   "source": [
    "## load dataset"
   ]
  },
  {
   "cell_type": "code",
   "execution_count": null,
   "metadata": {},
   "outputs": [],
   "source": [
    "dataset = h5py.File(path,'r')\n",
    "\n",
    "print('loading raw depths...')\n",
    "xs = np.array(dataset.get('rawDepths'))\n",
    "xs = xs.reshape((xs.shape[0], 1, xs.shape[1], xs.shape[2]))\n",
    "xs = np.swapaxes(xs, 1, 3)\n",
    "x_center = math.floor((xs.shape[1] - 256) / 2)\n",
    "y_center = math.floor((xs.shape[2] - 256) / 2)\n",
    "xs = xs[:,x_center:x_center+256,y_center:y_center+256,:]\n",
    "print('changing range...')\n",
    "xs = xs / 255\n",
    "\n",
    "print('loading processed depths...')\n",
    "ys = np.array(dataset.get('depths'))\n",
    "ys = ys.reshape((ys.shape[0], 1, ys.shape[1], ys.shape[2]))\n",
    "ys = np.swapaxes(ys, 1, 3)\n",
    "ys = ys[:,x_center:x_center+256,y_center:y_center+256,:]\n",
    "print('changing range...')\n",
    "ys = ys / 255"
   ]
  },
  {
   "cell_type": "markdown",
   "metadata": {},
   "source": [
    "#### Visualization of random images and their labels"
   ]
  },
  {
   "cell_type": "code",
   "execution_count": null,
   "metadata": {},
   "outputs": [],
   "source": [
    "%matplotlib inline\n",
    "fig, ax = plt.subplots(6,6,figsize=(16,16))\n",
    "fig.tight_layout()\n",
    "ax = ax.flatten()\n",
    "\n",
    "for i in range(18):\n",
    "    rand = np.random.randint(len(xs)-1)\n",
    "    x = xs[rand].reshape((xs[rand].shape[0], xs[rand].shape[1]))\n",
    "    y = ys[rand].reshape((ys[rand].shape[0], ys[rand].shape[1]))\n",
    "    \n",
    "    ax[2 * i].imshow(x)\n",
    "    ax[2 * i].set_title(f\"{i}_x\")\n",
    "    ax[2 * i].axis(\"off\")\n",
    "    ax[2 * i + 1].imshow(y)\n",
    "    ax[2 * i + 1].set_title(f\"{i}_y\")\n",
    "    ax[2 * i + 1].axis(\"off\")"
   ]
  },
  {
   "cell_type": "markdown",
   "metadata": {},
   "source": [
    "## Tensorboard"
   ]
  },
  {
   "cell_type": "code",
   "execution_count": null,
   "metadata": {},
   "outputs": [],
   "source": [
    "%load_ext tensorboard\n",
    "%tensorboard --logdir {\"logs/sparse-to-dense-depthmap/\"} --host 0.0.0.0 --port 8006"
   ]
  },
  {
   "cell_type": "markdown",
   "metadata": {},
   "source": [
    "## Import pix2pix and generate model\n",
    "After creating our dataset we load and create our model"
   ]
  },
  {
   "cell_type": "code",
   "execution_count": null,
   "metadata": {},
   "outputs": [],
   "source": [
    "%run pix2pix.ipynb\n",
    "\n",
    "model = Pix2pix(output_dim=1)"
   ]
  },
  {
   "cell_type": "markdown",
   "metadata": {},
   "source": [
    "To allow a consistent split between training and test dataset we split our dataset before training"
   ]
  },
  {
   "cell_type": "code",
   "execution_count": null,
   "metadata": {},
   "outputs": [],
   "source": [
    "((train_x, train_y), (test_x, test_y)) = model.split_dataset(xs, ys, validation_split=0.025)"
   ]
  },
  {
   "cell_type": "markdown",
   "metadata": {},
   "source": [
    "#### Checkpoint stuff\n",
    "To pause the training process and resume it later we use automatic checkpoints.\n",
    "Before setting up these automatic checkpoints we check if a earlier checkpoint exists and if so load it."
   ]
  },
  {
   "cell_type": "code",
   "execution_count": null,
   "metadata": {},
   "outputs": [],
   "source": [
    "checkpoint_dir = 'checkpoints/sparse-to-dense-depthmap/'\n",
    "checkpoint_path = checkpoint_dir + 'checkpoint-{epoch:04d}.ckpt'\n",
    "os.makedirs(checkpoint_dir, exist_ok=True)\n",
    "\n",
    "# if a checkpoint exists => build model and load weights\n",
    "if tf.train.latest_checkpoint(checkpoint_dir) != None:\n",
    "    model.build(train_x.shape)\n",
    "    status = model.load_weights(tf.train.latest_checkpoint(checkpoint_dir))"
   ]
  },
  {
   "cell_type": "markdown",
   "metadata": {},
   "source": [
    "### fit model\n",
    "Now, after loading the model and potentially restoring it from a earlier checkpoint, we create our needed callbacks and train the model.\n",
    "\n",
    "To show TQDM progress bars in Jupyter Lab run install the jupyterlab-manager widget before training:\n",
    "``` bash\n",
    "$ jupyter labextension install @jupyter-widgets/jupyterlab-manager\n",
    "```"
   ]
  },
  {
   "cell_type": "code",
   "execution_count": null,
   "metadata": {},
   "outputs": [],
   "source": [
    "# callback for progressbars\n",
    "tqdm_callback = TQDMNotebookCallback(inner_description_update=\"Epoch: {epoch}\")\n",
    "\n",
    "# callback for automatic checkpoints\n",
    "checkpoint_callback = tf.keras.callbacks.ModelCheckpoint(filepath=checkpoint_path, save_weights_only=False)\n",
    "\n",
    "# callback for tensorboard\n",
    "tensorboard_calback = tf.keras.callbacks.TensorBoard(log_dir='logs/sparse-to-dense-depthmap/', histogram_freq=0, write_graph=True, write_images=False, update_freq='epoch')\n",
    "\n",
    "# train the model\n",
    "model.fit(train_x, train_y, batch_size=15, epochs=70, initial_epoch=52, validation_data=(test_x, test_y), callbacks=[tqdm_callback, checkpoint_callback, tensorboard_calback])"
   ]
  },
  {
   "cell_type": "markdown",
   "metadata": {},
   "source": [
    "### visualize results of test data\n",
    "After training the model, we visualize some examples from our tesing dataset including the input, output and expected output."
   ]
  },
  {
   "cell_type": "code",
   "execution_count": null,
   "metadata": {},
   "outputs": [],
   "source": [
    "out = model.predict(test_x, batch_size=10)\n",
    "for i in range(len(out)):\n",
    "    fig, ax = plt.subplots(1,3,figsize=(10,10))\n",
    "    fig.tight_layout()\n",
    "    ax = ax.flatten()\n",
    "\n",
    "    x = test_x[i].reshape((256, 256))\n",
    "    y = test_y[i].reshape((256, 256))\n",
    "    o = out[i].reshape((256, 256))\n",
    "    \n",
    "    ax[0].imshow(x)\n",
    "    ax[0].set_title(\"x\")\n",
    "    ax[0].axis(\"off\")\n",
    "    ax[1].imshow(y)\n",
    "    ax[1].set_title(\"y\")\n",
    "    ax[1].axis(\"off\")\n",
    "    ax[2].imshow(o)\n",
    "    ax[2].set_title(\"g(x)\")\n",
    "    ax[2].axis(\"off\")"
   ]
  },
  {
   "cell_type": "code",
   "execution_count": null,
   "metadata": {},
   "outputs": [],
   "source": []
  }
 ],
 "metadata": {
  "kernelspec": {
   "display_name": "Python 3",
   "language": "python",
   "name": "python3"
  },
  "language_info": {
   "codemirror_mode": {
    "name": "ipython",
    "version": 3
   },
   "file_extension": ".py",
   "mimetype": "text/x-python",
   "name": "python",
   "nbconvert_exporter": "python",
   "pygments_lexer": "ipython3",
   "version": "3.8.2"
  }
 },
 "nbformat": 4,
 "nbformat_minor": 4
}
